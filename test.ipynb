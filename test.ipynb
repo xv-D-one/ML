{
 "cells": [
  {
   "cell_type": "code",
   "execution_count": 2,
   "id": "9a0e67b2-7a55-4257-82bc-fb2fa7f7e478",
   "metadata": {},
   "outputs": [
    {
     "name": "stdout",
     "output_type": "stream",
     "text": [
      "0\n",
      "1\n",
      "2\n",
      "3\n",
      "4\n",
      "5\n",
      "6\n",
      "7\n",
      "8\n",
      "9\n",
      "10\n"
     ]
    }
   ],
   "source": [
    "for i in range(11):\n",
    "    print(i)"
   ]
  },
  {
   "cell_type": "code",
   "execution_count": 3,
   "id": "853a3ee2-5376-4796-b2d0-5c512ab02bc1",
   "metadata": {},
   "outputs": [
    {
     "name": "stdout",
     "output_type": "stream",
     "text": [
      "1\n",
      "3\n",
      "5\n",
      "7\n",
      "9\n"
     ]
    }
   ],
   "source": [
    "for i in range(1,11,2):\n",
    "    print(i)"
   ]
  },
  {
   "cell_type": "code",
   "execution_count": 5,
   "id": "12cc586a-be95-4916-9bb9-32c1bfb63cc2",
   "metadata": {},
   "outputs": [
    {
     "name": "stdout",
     "output_type": "stream",
     "text": [
      "2\n",
      "4\n",
      "6\n",
      "8\n",
      "10\n"
     ]
    }
   ],
   "source": [
    "i=0\n",
    "while(i<10):\n",
    "    i=i+2\n",
    "    print(i)"
   ]
  },
  {
   "cell_type": "code",
   "execution_count": 6,
   "id": "d0d5b93e-4383-42d5-89df-9b70cf8cec58",
   "metadata": {},
   "outputs": [
    {
     "name": "stdin",
     "output_type": "stream",
     "text": [
      "Enter a number= 4\n"
     ]
    },
    {
     "name": "stdout",
     "output_type": "stream",
     "text": [
      "Number is even\n"
     ]
    }
   ],
   "source": [
    "num=int(input(\"Enter a number=\"))\n",
    "if(num%2==0):\n",
    "    print(\"Number is even\")\n",
    "else:\n",
    "    print(\"Number is odd\")"
   ]
  },
  {
   "cell_type": "code",
   "execution_count": 8,
   "id": "42357952-637b-4f80-a2b8-fe2d27bb2c78",
   "metadata": {},
   "outputs": [
    {
     "name": "stdin",
     "output_type": "stream",
     "text": [
      "enter string= messi\n"
     ]
    },
    {
     "name": "stdout",
     "output_type": "stream",
     "text": [
      "issem\n"
     ]
    }
   ],
   "source": [
    "x=input(\"enter string=\")\n",
    "y=x[::-1]\n",
    "print(y)"
   ]
  },
  {
   "cell_type": "code",
   "execution_count": 11,
   "id": "e58a9044-c461-4e4a-8c53-c8365523a7f9",
   "metadata": {},
   "outputs": [
    {
     "name": "stdin",
     "output_type": "stream",
     "text": [
      "enter a string malayalam\n"
     ]
    },
    {
     "name": "stdout",
     "output_type": "stream",
     "text": [
      "palindrome\n"
     ]
    }
   ],
   "source": [
    "x=input(\"enter a string\")\n",
    "y=x[::-1]\n",
    "if(y==x):\n",
    "    print(\"palindrome\")\n",
    "else:\n",
    "    print(\"not a palindrome\")"
   ]
  },
  {
   "cell_type": "code",
   "execution_count": 25,
   "id": "5c4cd28c-c439-4ce0-8d74-9187172884f4",
   "metadata": {},
   "outputs": [
    {
     "name": "stdin",
     "output_type": "stream",
     "text": [
      "enter a string kkj\n"
     ]
    },
    {
     "name": "stdout",
     "output_type": "stream",
     "text": [
      "jkk\n",
      "not palindrome\n"
     ]
    }
   ],
   "source": [
    "x=input(\"enter a string\") #hello\n",
    "y=''\n",
    "for i in x:\n",
    "    y=i+y\n",
    "print(y)\n",
    "if(x==y):\n",
    "    print(\"palindrome\")\n",
    "else:\n",
    "    print(\"not palindrome\")\n",
    "    "
   ]
  },
  {
   "cell_type": "code",
   "execution_count": 33,
   "id": "45bfd524-cca4-41fe-a48f-6a44173f60b0",
   "metadata": {},
   "outputs": [
    {
     "name": "stdout",
     "output_type": "stream",
     "text": [
      "1\n"
     ]
    }
   ],
   "source": [
    "a=5%2\n",
    "print(a)"
   ]
  },
  {
   "cell_type": "code",
   "execution_count": 34,
   "id": "91711e7b-abc7-41c5-b313-c8dc77c5f040",
   "metadata": {},
   "outputs": [
    {
     "name": "stdout",
     "output_type": "stream",
     "text": [
      "7\n"
     ]
    }
   ],
   "source": [
    "a=5\n",
    "a+=2\n",
    "print(a)"
   ]
  },
  {
   "cell_type": "code",
   "execution_count": 36,
   "id": "ecc69e17-ddae-4404-8d2d-0c7a2cd6bcfe",
   "metadata": {},
   "outputs": [
    {
     "name": "stdout",
     "output_type": "stream",
     "text": [
      "False\n"
     ]
    }
   ],
   "source": [
    "print(5==2)"
   ]
  },
  {
   "cell_type": "code",
   "execution_count": 37,
   "id": "adb8cd60-a8fc-45ba-896d-f96872068df8",
   "metadata": {},
   "outputs": [
    {
     "data": {
      "text/plain": [
       "True"
      ]
     },
     "execution_count": 37,
     "metadata": {},
     "output_type": "execute_result"
    }
   ],
   "source": [
    "True or True"
   ]
  },
  {
   "cell_type": "code",
   "execution_count": 38,
   "id": "544ecd1a-4325-41ab-aeea-7e8de1fcdb3e",
   "metadata": {},
   "outputs": [
    {
     "data": {
      "text/plain": [
       "True"
      ]
     },
     "execution_count": 38,
     "metadata": {},
     "output_type": "execute_result"
    }
   ],
   "source": [
    "True or False"
   ]
  },
  {
   "cell_type": "code",
   "execution_count": 39,
   "id": "12b22842-97c8-47a3-9973-69175696e517",
   "metadata": {},
   "outputs": [
    {
     "data": {
      "text/plain": [
       "False"
      ]
     },
     "execution_count": 39,
     "metadata": {},
     "output_type": "execute_result"
    }
   ],
   "source": [
    "False or False"
   ]
  },
  {
   "cell_type": "code",
   "execution_count": 40,
   "id": "e982ecb0-56f8-4248-b69a-5f15999059cc",
   "metadata": {},
   "outputs": [
    {
     "data": {
      "text/plain": [
       "True"
      ]
     },
     "execution_count": 40,
     "metadata": {},
     "output_type": "execute_result"
    }
   ],
   "source": [
    "True and True"
   ]
  },
  {
   "cell_type": "code",
   "execution_count": 41,
   "id": "64c55404-dad5-4d1f-b514-bca31aa81554",
   "metadata": {},
   "outputs": [
    {
     "data": {
      "text/plain": [
       "False"
      ]
     },
     "execution_count": 41,
     "metadata": {},
     "output_type": "execute_result"
    }
   ],
   "source": [
    "True and False"
   ]
  },
  {
   "cell_type": "code",
   "execution_count": 42,
   "id": "bf8628b1-0e74-4197-a2c8-cfae3803349c",
   "metadata": {},
   "outputs": [
    {
     "data": {
      "text/plain": [
       "False"
      ]
     },
     "execution_count": 42,
     "metadata": {},
     "output_type": "execute_result"
    }
   ],
   "source": [
    "not True"
   ]
  },
  {
   "cell_type": "code",
   "execution_count": 43,
   "id": "21cfc766-0881-4545-8ff1-d14130c63723",
   "metadata": {},
   "outputs": [
    {
     "data": {
      "text/plain": [
       "True"
      ]
     },
     "execution_count": 43,
     "metadata": {},
     "output_type": "execute_result"
    }
   ],
   "source": [
    "not False"
   ]
  },
  {
   "cell_type": "code",
   "execution_count": 49,
   "id": "75d9fa11-fa4a-4718-bea2-a72a2011f6e4",
   "metadata": {},
   "outputs": [
    {
     "name": "stdout",
     "output_type": "stream",
     "text": [
      "ge\n"
     ]
    }
   ],
   "source": [
    "if (5>2):\n",
    "    print('ge')\n",
    "elif (2>3):\n",
    "    print('jj')\n",
    "else:\n",
    "    print('ff')"
   ]
  },
  {
   "cell_type": "code",
   "execution_count": 55,
   "id": "342f7342-5270-4d2c-8ce3-f1cbb64117ad",
   "metadata": {},
   "outputs": [
    {
     "name": "stdout",
     "output_type": "stream",
     "text": [
      "h\n",
      "e\n",
      "l\n",
      "l\n",
      "o\n",
      "J\n"
     ]
    }
   ],
   "source": [
    "a=[1, 2, 3, 4, 5, 6, 7, 8, 9]\n",
    "for i in \"helloJ\":\n",
    "    print(i)"
   ]
  },
  {
   "cell_type": "code",
   "execution_count": 6,
   "id": "66bb330f-c109-467f-b6c9-d1d68b18af8e",
   "metadata": {
    "scrolled": true
   },
   "outputs": [
    {
     "name": "stdout",
     "output_type": "stream",
     "text": [
      "0\n",
      "1\n",
      "2\n",
      "3\n",
      "4\n",
      "5\n",
      "6\n",
      "7\n",
      "8\n",
      "9\n",
      "now exited\n"
     ]
    }
   ],
   "source": [
    "x=0\n",
    "while x<10:\n",
    "    while True:\n",
    "        if x>3:\n",
    "            break\n",
    "        print(x)\n",
    "        \n",
    "        x+=1\n",
    "    print(x)\n",
    "    x+=1\n",
    "print(\"now exited\")"
   ]
  },
  {
   "cell_type": "code",
   "execution_count": 14,
   "id": "7096e658-a973-4e45-bcd1-51a99d70332a",
   "metadata": {},
   "outputs": [
    {
     "name": "stdout",
     "output_type": "stream",
     "text": [
      "1\n",
      "2\n",
      "3\n",
      "5\n"
     ]
    }
   ],
   "source": [
    "a=0\n",
    "while True:\n",
    "    a+=1\n",
    "    if a==4:\n",
    "        continue     \n",
    "    if a > 5:\n",
    "        break\n",
    "    print(a)\n",
    "    "
   ]
  },
  {
   "cell_type": "code",
   "execution_count": 15,
   "id": "a9aada9d-d342-401f-89d1-6f3c0405b684",
   "metadata": {},
   "outputs": [
    {
     "name": "stdin",
     "output_type": "stream",
     "text": [
      "Enter a year= 2028\n"
     ]
    },
    {
     "name": "stdout",
     "output_type": "stream",
     "text": [
      "leap year\n"
     ]
    }
   ],
   "source": [
    "yr=int(input(\"Enter a year=\"))\n",
    "if yr%100==0 and yr%400==0:\n",
    "    print(\"Leap year\")\n",
    "elif yr%4==0:\n",
    "    print(\"leap year\")\n",
    "else:\n",
    "    print(\"not a year\")\n",
    "    "
   ]
  },
  {
   "cell_type": "code",
   "execution_count": 25,
   "id": "ba4e794c-727e-412c-808c-3e42a4d78c66",
   "metadata": {},
   "outputs": [
    {
     "name": "stdin",
     "output_type": "stream",
     "text": [
      "Enter a year= 2028\n"
     ]
    },
    {
     "name": "stdout",
     "output_type": "stream",
     "text": [
      "leap year\n"
     ]
    }
   ],
   "source": [
    "yr=int(input(\"Enter a year=\"))\n",
    "\n",
    "if yr%4==0:\n",
    "    if yr%100==0:\n",
    "        if yr%400==0:\n",
    "            print(\"Leap year\")\n",
    "        else:\n",
    "            print(\"not a leapyear\")\n",
    "    else:\n",
    "        print('leap year')\n",
    "else:\n",
    "    print(\"not a leap year\")\n",
    "    "
   ]
  },
  {
   "cell_type": "code",
   "execution_count": 20,
   "id": "10155b2c-a8fc-49c6-8af4-5d01f7767b28",
   "metadata": {},
   "outputs": [
    {
     "name": "stdin",
     "output_type": "stream",
     "text": [
      "Enter a number= 5\n"
     ]
    },
    {
     "name": "stdout",
     "output_type": "stream",
     "text": [
      "sum- 10\n"
     ]
    }
   ],
   "source": [
    "n=int(input(\"Enter a number=\"))\n",
    "s=0\n",
    "for i in range(1,n):\n",
    "    s=s+i\n",
    "print(\"sum-\",s)"
   ]
  },
  {
   "cell_type": "code",
   "execution_count": 21,
   "id": "808aee6e-b843-4023-8490-81bc98f16f7f",
   "metadata": {},
   "outputs": [
    {
     "name": "stdin",
     "output_type": "stream",
     "text": [
      "enter a number 5\n"
     ]
    },
    {
     "name": "stdout",
     "output_type": "stream",
     "text": [
      "1 X 5 = 5\n",
      "2 X 5 = 10\n",
      "3 X 5 = 15\n",
      "4 X 5 = 20\n",
      "5 X 5 = 25\n",
      "6 X 5 = 30\n",
      "7 X 5 = 35\n",
      "8 X 5 = 40\n",
      "9 X 5 = 45\n",
      "10 X 5 = 50\n"
     ]
    }
   ],
   "source": [
    "n=int(input(\"enter a number\"))\n",
    "for i in range(1,11):\n",
    "    print(i,\"X\",n,\"=\",i*n)"
   ]
  },
  {
   "cell_type": "code",
   "execution_count": 3,
   "id": "b6475b37-77e5-4b39-8ff9-af7a23d47b35",
   "metadata": {},
   "outputs": [
    {
     "name": "stdout",
     "output_type": "stream",
     "text": [
      "['abc', 123, 456, 'xyz', [1, 3, 4]]\n"
     ]
    }
   ],
   "source": [
    "xlist=[\"abc\",123,456,\"xyz\",[1,3,4]]\n",
    "print(xlist)"
   ]
  },
  {
   "cell_type": "code",
   "execution_count": 4,
   "id": "786ac2a5-3f81-43c8-b645-60bdae275fc4",
   "metadata": {},
   "outputs": [
    {
     "data": {
      "text/plain": [
       "list"
      ]
     },
     "execution_count": 4,
     "metadata": {},
     "output_type": "execute_result"
    }
   ],
   "source": [
    "type(xlist)"
   ]
  },
  {
   "cell_type": "code",
   "execution_count": 5,
   "id": "50bae469-48ae-424f-a62b-6f6a1932ed3b",
   "metadata": {},
   "outputs": [
    {
     "name": "stdout",
     "output_type": "stream",
     "text": [
      "('abc', 123, 456, 'xyz', [1, 3, 4])\n"
     ]
    },
    {
     "data": {
      "text/plain": [
       "tuple"
      ]
     },
     "execution_count": 5,
     "metadata": {},
     "output_type": "execute_result"
    }
   ],
   "source": [
    "xtup=(\"abc\",123,456,\"xyz\",[1,3,4])\n",
    "print(xtup)\n",
    "type(xtup)"
   ]
  },
  {
   "cell_type": "code",
   "execution_count": 6,
   "id": "6aaee8a4-023d-4593-b0a4-1543eccbb5ee",
   "metadata": {},
   "outputs": [
    {
     "name": "stdout",
     "output_type": "stream",
     "text": [
      "['abc', 123, 456, 'xyz', [1, 3, 4], 333]\n"
     ]
    }
   ],
   "source": [
    "xlist=[\"abc\",123,456,\"xyz\",[1,3,4]]\n",
    "xlist.append(333)\n",
    "print(xlist)"
   ]
  },
  {
   "cell_type": "code",
   "execution_count": 8,
   "id": "429fa3a4-5484-48b1-98aa-7dcb4c738a39",
   "metadata": {},
   "outputs": [
    {
     "name": "stdout",
     "output_type": "stream",
     "text": [
      "['fcb', 'abc', 123, 456, 'xyz', [1, 3, 4]]\n"
     ]
    }
   ],
   "source": [
    "xlist=[\"abc\",123,456,\"xyz\",[1,3,4]]\n",
    "xlist.insert(0,\"fcb\")\n",
    "print(xlist)"
   ]
  },
  {
   "cell_type": "code",
   "execution_count": 10,
   "id": "8b00101f-7dc5-4610-aa46-b5bd2179f655",
   "metadata": {},
   "outputs": [
    {
     "name": "stdout",
     "output_type": "stream",
     "text": [
      "['abc', 123, 456, 'xyz', [1, 3, 4], 'sad', 'happy', 'angry']\n"
     ]
    }
   ],
   "source": [
    "xlist=[\"abc\",123,456,\"xyz\",[1,3,4]]\n",
    "xl2=[\"sad\",\"happy\",\"angry\"]\n",
    "xlist.extend(xl2)\n",
    "print(xlist)"
   ]
  },
  {
   "cell_type": "code",
   "execution_count": 11,
   "id": "22f82e7e-f13d-4ed8-85cb-c9901851163e",
   "metadata": {},
   "outputs": [
    {
     "name": "stdout",
     "output_type": "stream",
     "text": [
      "['abc', 123, 456, [1, 3, 4]]\n"
     ]
    }
   ],
   "source": [
    "xlist=[\"abc\",123,456,\"xyz\",[1,3,4]]\n",
    "xlist.remove(\"xyz\")\n",
    "print(xlist)"
   ]
  },
  {
   "cell_type": "code",
   "execution_count": 12,
   "id": "e8c82347-1bf6-4784-aca2-9b1735e73c45",
   "metadata": {},
   "outputs": [
    {
     "name": "stdout",
     "output_type": "stream",
     "text": [
      "['abc', 123, 456, [1, 3, 4]]\n"
     ]
    }
   ],
   "source": [
    "xlist=[\"abc\",123,456,\"xyz\",[1,3,4]]\n",
    "xlist.pop(3)\n",
    "print(xlist)"
   ]
  },
  {
   "cell_type": "code",
   "execution_count": 15,
   "id": "b14b445c-c710-4776-a3ae-880a63bfa0c3",
   "metadata": {},
   "outputs": [
    {
     "name": "stdout",
     "output_type": "stream",
     "text": [
      "['abc', 123, 'xyz', [1, 3, 4]]\n"
     ]
    }
   ],
   "source": [
    "xlist=[\"abc\",123,456,\"xyz\",[1,3,4]]\n",
    "del xlist[2]\n",
    "print(xlist)"
   ]
  },
  {
   "cell_type": "code",
   "execution_count": 16,
   "id": "91f990d6-eed9-4ccc-8913-8db48b83ec97",
   "metadata": {},
   "outputs": [
    {
     "name": "stdout",
     "output_type": "stream",
     "text": [
      "['messi']\n"
     ]
    }
   ],
   "source": [
    "xlist=[\"abc\",123,456,\"xyz\",[1,3,4]]\n",
    "xlist.clear()\n",
    "xlist.append(\"messi\")\n",
    "print(xlist)"
   ]
  },
  {
   "cell_type": "code",
   "execution_count": 17,
   "id": "a16efae5-32bb-4f06-8de4-390d81c72a24",
   "metadata": {},
   "outputs": [
    {
     "name": "stdout",
     "output_type": "stream",
     "text": [
      "abc\n",
      "123\n",
      "456\n",
      "xyz\n",
      "[1, 3, 4]\n"
     ]
    }
   ],
   "source": [
    "xlist=[\"abc\",123,456,\"xyz\",[1,3,4]]\n",
    "for i in xlist:\n",
    "    print(i)"
   ]
  },
  {
   "cell_type": "code",
   "execution_count": 19,
   "id": "e0bc155c-14e8-4541-91c7-74feeb7170fc",
   "metadata": {},
   "outputs": [
    {
     "name": "stdout",
     "output_type": "stream",
     "text": [
      "0\n",
      "1\n",
      "2\n",
      "3\n",
      "4\n"
     ]
    }
   ],
   "source": [
    "xlist=[\"abc\",123,456,\"xyz\",[1,3,4]]\n",
    "for i in range(len(xlist)):\n",
    "    print(i)"
   ]
  },
  {
   "cell_type": "code",
   "execution_count": 20,
   "id": "59916c0a-89ce-4eee-9b02-ae287c27fc92",
   "metadata": {},
   "outputs": [
    {
     "name": "stdout",
     "output_type": "stream",
     "text": [
      "abc\n",
      "123\n",
      "456\n",
      "xyz\n",
      "[1, 3, 4]\n"
     ]
    }
   ],
   "source": [
    "xlist=[\"abc\",123,456,\"xyz\",[1,3,4]]\n",
    "i=0\n",
    "while i<len(xlist):\n",
    "    print(xlist[i])\n",
    "    i+=1"
   ]
  },
  {
   "cell_type": "code",
   "execution_count": 21,
   "id": "db69d1e2-ff84-493b-8a03-603b06be58ab",
   "metadata": {},
   "outputs": [
    {
     "name": "stdout",
     "output_type": "stream",
     "text": [
      "abc\n",
      "123\n",
      "456\n",
      "xyz\n",
      "[1, 3, 4]\n"
     ]
    },
    {
     "data": {
      "text/plain": [
       "[None, None, None, None, None]"
      ]
     },
     "execution_count": 21,
     "metadata": {},
     "output_type": "execute_result"
    }
   ],
   "source": [
    "xlist=[\"abc\",123,456,\"xyz\",[1,3,4]]\n",
    "[print(x) for x in xlist]"
   ]
  },
  {
   "cell_type": "code",
   "execution_count": 22,
   "id": "d929fe38-c58b-4aa3-acbc-14088cb7fc28",
   "metadata": {},
   "outputs": [
    {
     "name": "stdout",
     "output_type": "stream",
     "text": [
      "[123, 444, 456, 555]\n"
     ]
    }
   ],
   "source": [
    "xlist=[123,456,444,555]\n",
    "xlist.sort()\n",
    "print(xlist)"
   ]
  },
  {
   "cell_type": "code",
   "execution_count": 24,
   "id": "825e684d-9a90-4bed-b7e0-c45980459f11",
   "metadata": {},
   "outputs": [
    {
     "name": "stdout",
     "output_type": "stream",
     "text": [
      "['ibrahimovic', 'messi', 'neymar', 'zizou']\n"
     ]
    }
   ],
   "source": [
    "xlist=[\"messi\",\"neymar\",\"ibrahimovic\",\"zizou\"]\n",
    "xlist.sort()\n",
    "print(xlist)"
   ]
  },
  {
   "cell_type": "code",
   "execution_count": 25,
   "id": "62b768ff-50b2-429b-8dfb-bd6ff269fa5f",
   "metadata": {},
   "outputs": [
    {
     "name": "stdout",
     "output_type": "stream",
     "text": [
      "['zizou', 'ibrahimovic', 'neymar', 'messi']\n"
     ]
    }
   ],
   "source": [
    "xlist=[\"messi\",\"neymar\",\"ibrahimovic\",\"zizou\"]\n",
    "xlist.reverse()\n",
    "print(xlist)"
   ]
  },
  {
   "cell_type": "code",
   "execution_count": 26,
   "id": "389a5d87-f47a-4062-aad3-a3b1e3753f8a",
   "metadata": {},
   "outputs": [
    {
     "name": "stdout",
     "output_type": "stream",
     "text": [
      "[55455, 23758, 999, 888, 765, 453]\n"
     ]
    }
   ],
   "source": [
    "xlist=[999,888,765,453,23758,55455]\n",
    "xlist.sort()\n",
    "xlist.reverse()\n",
    "print(xlist)\n"
   ]
  },
  {
   "cell_type": "code",
   "execution_count": 36,
   "id": "799adc09-5b64-4eea-a0c0-d9005b55edf4",
   "metadata": {},
   "outputs": [
    {
     "name": "stdout",
     "output_type": "stream",
     "text": [
      "5\n",
      "tupac\n",
      "['dre', 'eminem', 'lamar', 'tupac', 'dre', 'nicki minaj']\n"
     ]
    }
   ],
   "source": [
    "xtup=(\"dre\",\"eminem\",\"lamar\",\"tupac\",\"dre\")\n",
    "print(len(xtup))\n",
    "print(xtup[3])\n",
    "xlist=list(xtup)\n",
    "xlist.append(\"nicki minaj\")\n",
    "print(xlist)"
   ]
  },
  {
   "cell_type": "code",
   "execution_count": 48,
   "id": "4c1a7e50-952c-49a3-b0a1-25116f14aac9",
   "metadata": {},
   "outputs": [
    {
     "name": "stdout",
     "output_type": "stream",
     "text": [
      "111\n"
     ]
    }
   ],
   "source": [
    "xlist=[12,22,33,44]\n",
    "sum=0\n",
    "for i in xlist:\n",
    "    sum+=i\n",
    "print(sum)"
   ]
  },
  {
   "cell_type": "code",
   "execution_count": 59,
   "id": "8477d732-3112-4b8c-8995-e274e74ee01e",
   "metadata": {},
   "outputs": [
    {
     "name": "stdout",
     "output_type": "stream",
     "text": [
      "44\n"
     ]
    }
   ],
   "source": [
    "xlist=[12,22,33,44]\n",
    "largest=xlist[0]\n",
    "for num in xlist:\n",
    "        if num > largest:\n",
    "            largest = num\n",
    "print(largest)"
   ]
  },
  {
   "cell_type": "code",
   "execution_count": 60,
   "id": "f893dffc-2152-445d-9d16-52cd1024ad25",
   "metadata": {},
   "outputs": [
    {
     "name": "stdout",
     "output_type": "stream",
     "text": [
      "('roman', 'iyo sky', 'charlotte', 'batista')\n"
     ]
    }
   ],
   "source": [
    "xtup = (\"roman\", \"iyo sky\", \"charlotte\", \"batista\", \"hhh\", \"hbk\", \"alexa\")\n",
    "print(xtup[:4])"
   ]
  },
  {
   "cell_type": "code",
   "execution_count": 61,
   "id": "481a9f05-4ec6-4c14-8007-10b8b1e6e016",
   "metadata": {},
   "outputs": [
    {
     "name": "stdout",
     "output_type": "stream",
     "text": [
      "('roman', 'iyo sky', 'charlotte', 'batista', 'hhh', 'hbk', 'alexa', 1, 2, 3, 4, 5)\n"
     ]
    }
   ],
   "source": [
    "xtup = (\"roman\", \"iyo sky\", \"charlotte\", \"batista\", \"hhh\", \"hbk\", \"alexa\")\n",
    "xtup1=(1,2,3,4,5)\n",
    "newtup=xtup+xtup1\n",
    "print(newtup)"
   ]
  },
  {
   "cell_type": "code",
   "execution_count": 66,
   "id": "54cde8ae-1925-4dce-a046-cf0818b15408",
   "metadata": {},
   "outputs": [
    {
     "name": "stdin",
     "output_type": "stream",
     "text": [
      "enter a number to check= 3\n"
     ]
    },
    {
     "name": "stdout",
     "output_type": "stream",
     "text": [
      "element present\n"
     ]
    }
   ],
   "source": [
    "xtup=(1,2,3,4)\n",
    "x=int(input(\"enter a number to check=\"))\n",
    "if x in xtup:\n",
    "    print(\"element present\")\n",
    "else:\n",
    "    print(\"error\")"
   ]
  },
  {
   "cell_type": "code",
   "execution_count": 69,
   "id": "052eedc5-351a-4bda-a676-ff0e27659212",
   "metadata": {},
   "outputs": [
    {
     "name": "stdout",
     "output_type": "stream",
     "text": [
      "(1, 34, 12, 33, 1, 34, 12, 33, 1, 34, 12, 33, 1, 34, 12, 33, 1, 34, 12, 33)\n"
     ]
    }
   ],
   "source": [
    "xtup=(1,34,12,33)\n",
    "print(xtup*5)"
   ]
  },
  {
   "cell_type": "code",
   "execution_count": 75,
   "id": "788c6ab5-9e35-46be-a853-d53e7ee30078",
   "metadata": {},
   "outputs": [
    {
     "name": "stdout",
     "output_type": "stream",
     "text": [
      "3\n"
     ]
    }
   ],
   "source": [
    "xtup=(1,1,2,2,3,1,4)\n",
    "print(xtup.count(1))"
   ]
  },
  {
   "cell_type": "code",
   "execution_count": 86,
   "id": "51212038-eb04-4ca3-852d-900b3dcfe0a8",
   "metadata": {},
   "outputs": [
    {
     "name": "stdout",
     "output_type": "stream",
     "text": [
      "Even number count= 3\n",
      "odd number count= 4\n"
     ]
    }
   ],
   "source": [
    "xlist=[1,2,3,4,5,6,7]\n",
    "even=0\n",
    "odd=0\n",
    "for i in xlist:\n",
    "    if i%2==0:\n",
    "        even+=1\n",
    "    else:\n",
    "        odd+=1\n",
    "print(\"Even number count=\",even)\n",
    "print(\"odd number count=\",odd)\n",
    "    "
   ]
  },
  {
   "cell_type": "code",
   "execution_count": 93,
   "id": "6f3f720f-e04e-4f69-a125-e8161cf90d27",
   "metadata": {},
   "outputs": [
    {
     "name": "stdout",
     "output_type": "stream",
     "text": [
      "[-9, -8, -5]\n",
      "[1, 2, 3, 4, 5, 5, 6]\n"
     ]
    }
   ],
   "source": [
    "xlist=[1,2,-9,-8,3,4,-5,5,5,6]\n",
    "positive=[]\n",
    "negative=[]\n",
    "for i in xlist:\n",
    "    if i<0:\n",
    "        positive.append(i)\n",
    "    else:\n",
    "        negative.append(i)\n",
    "print(positive)\n",
    "print(negative)"
   ]
  },
  {
   "cell_type": "code",
   "execution_count": 94,
   "id": "45f7dbd5-fad6-4bdb-8a1a-4014a05a28b2",
   "metadata": {},
   "outputs": [
    {
     "name": "stdout",
     "output_type": "stream",
     "text": [
      "0\n",
      "1\n",
      "2\n",
      "3\n"
     ]
    }
   ],
   "source": [
    "xlist=[\"iyo sky\",\"charlotte flair\",\"liv morgan\",\"carmella\"]\n",
    "for i in range(len(xlist)):\n",
    "    print(i)"
   ]
  },
  {
   "cell_type": "code",
   "execution_count": 98,
   "id": "0f79d4e9-b6e2-40c5-bb08-c9b8fe59294b",
   "metadata": {},
   "outputs": [
    {
     "name": "stdin",
     "output_type": "stream",
     "text": [
      "enter a number= 3\n"
     ]
    },
    {
     "name": "stdout",
     "output_type": "stream",
     "text": [
      "item not found\n"
     ]
    }
   ],
   "source": [
    "xlist=[1,2,3,4,5,6]\n",
    "num=int(input(\"enter a number=\"))\n",
    "index=0\n",
    "for i in range(len(xlist)):\n",
    "    if xlist[i]==index:\n",
    "        index=i\n",
    "        break\n",
    "if index!=0:\n",
    "    print(\"item at\",index)\n",
    "else:\n",
    "    print(\"item not found\")"
   ]
  },
  {
   "cell_type": "code",
   "execution_count": 102,
   "id": "73ffcffe-2a31-4328-8576-fe059eaff062",
   "metadata": {},
   "outputs": [
    {
     "name": "stdout",
     "output_type": "stream",
     "text": [
      "{1, 3, 4, 5, 6, 7}\n",
      "6\n",
      "<class 'set'>\n"
     ]
    }
   ],
   "source": [
    "xset={3,7,1,4,6,5,6,7}\n",
    "print(xset)\n",
    "print(len(xset))\n",
    "print(type(xset))"
   ]
  },
  {
   "cell_type": "code",
   "execution_count": 103,
   "id": "829192e4-4e9a-4fce-b272-fefbc322926a",
   "metadata": {},
   "outputs": [
    {
     "name": "stdout",
     "output_type": "stream",
     "text": [
      "{1, 2, 4, 5, 7, 8, 42}\n"
     ]
    }
   ],
   "source": [
    "xset=set((1,2,4,5,7,8,42))\n",
    "print(xset)"
   ]
  },
  {
   "cell_type": "code",
   "execution_count": 104,
   "id": "a98ea62f-29ef-45e4-a40d-1a094df54198",
   "metadata": {},
   "outputs": [
    {
     "name": "stdout",
     "output_type": "stream",
     "text": [
      "1\n",
      "3\n",
      "4\n",
      "5\n",
      "6\n",
      "7\n"
     ]
    }
   ],
   "source": [
    "xset={3,7,1,4,6,5,6,7}\n",
    "for i in xset:\n",
    "    print(i)"
   ]
  },
  {
   "cell_type": "code",
   "execution_count": 106,
   "id": "f4aa5090-ed66-4be0-a114-62e799da59c0",
   "metadata": {},
   "outputs": [
    {
     "name": "stdout",
     "output_type": "stream",
     "text": [
      "{1, 2, 3, 4, 5, 6, 7}\n"
     ]
    }
   ],
   "source": [
    "xset={3,7,1,4,6,5,6,7}\n",
    "xset.add(2)\n",
    "print(xset)"
   ]
  },
  {
   "cell_type": "code",
   "execution_count": 108,
   "id": "2ce496ad-7581-45cc-85d0-0e9f02e94f13",
   "metadata": {},
   "outputs": [
    {
     "name": "stdout",
     "output_type": "stream",
     "text": [
      "['messi', 'zizou', 'neymar', 'maldini']\n",
      "{1, 3, 4, 5, 6, 7, 'maldini', 'zizou', 'neymar', 'messi'}\n"
     ]
    }
   ],
   "source": [
    "xset={3,7,1,4,6,5,6,7}\n",
    "xlist=[\"messi\",\"zizou\",\"neymar\",\"maldini\"]\n",
    "print(xlist)\n",
    "xset.update(xlist)\n",
    "print(xset)"
   ]
  },
  {
   "cell_type": "code",
   "execution_count": 114,
   "id": "2491da8c-56b7-40e3-9658-c43bfb22d7e1",
   "metadata": {},
   "outputs": [
    {
     "name": "stdout",
     "output_type": "stream",
     "text": [
      "{2, 3, 'zizou', 'el sherawy', 'maldini'}\n"
     ]
    }
   ],
   "source": [
    "xset={1,2,3,\"zizou\",\"maldini\",\"neymar\",\"el sherawy\",\"svincheko\"}\n",
    "xset.remove(\"neymar\")\n",
    "xset.discard(\"svincheko\")\n",
    "xset.pop()\n",
    "print(xset)"
   ]
  },
  {
   "cell_type": "code",
   "execution_count": 115,
   "id": "177d6653-bc4b-43fd-a510-30b0bab1a94b",
   "metadata": {},
   "outputs": [
    {
     "name": "stdout",
     "output_type": "stream",
     "text": [
      "svincheko\n",
      "nedved\n",
      "pique\n",
      "figo\n",
      "thierry henry\n"
     ]
    }
   ],
   "source": [
    "xset={\"svincheko\",\"nedved\",\"thierry henry\",\"figo\",\"pique\"}\n",
    "for i in xset:\n",
    "    print(i)"
   ]
  },
  {
   "cell_type": "code",
   "execution_count": 129,
   "id": "675a2b8e-6c5a-423a-a496-da6dd8ca779a",
   "metadata": {},
   "outputs": [
    {
     "name": "stdout",
     "output_type": "stream",
     "text": [
      "{1: 2, 2: 2, 3: 3, 4: 3, 7: 2, 5: 2, 6: 1}\n"
     ]
    }
   ],
   "source": [
    "xlist=[1,2,1,3,4,7,5,4,3,2,3,4,5,6,7]\n",
    "xdict={}\n",
    "for i in xlist:\n",
    "    if i in xdict:\n",
    "        xdict[i]+=1\n",
    "    else:\n",
    "        xdict[i]=1\n",
    "print(xdict)"
   ]
  },
  {
   "cell_type": "code",
   "execution_count": 29,
   "id": "b3831232-cfe2-4837-8b20-cff4e74d9585",
   "metadata": {},
   "outputs": [
    {
     "data": {
      "text/plain": [
       "[8, 5, 2]"
      ]
     },
     "execution_count": 29,
     "metadata": {},
     "output_type": "execute_result"
    }
   ],
   "source": [
    "xlist=[1,2,3,4,5,6,7,8,9]\n",
    "xlist[7::-3]"
   ]
  },
  {
   "cell_type": "code",
   "execution_count": 45,
   "id": "c227a0a6-c386-449a-a7f7-ea25a47c8aa6",
   "metadata": {},
   "outputs": [
    {
     "data": {
      "text/plain": [
       "'domilh'"
      ]
     },
     "execution_count": 45,
     "metadata": {},
     "output_type": "execute_result"
    }
   ],
   "source": [
    "a=\"hello i am nobody\"\n",
    "a[-11:-7]\n",
    "a[::-1]\n",
    "a[-2::-3]"
   ]
  },
  {
   "cell_type": "code",
   "execution_count": 59,
   "id": "33b1fccb-7502-4d47-b4ef-853319b32062",
   "metadata": {},
   "outputs": [
    {
     "name": "stdout",
     "output_type": "stream",
     "text": [
      "i   a m   n o b o d y "
     ]
    }
   ],
   "source": [
    "for i in a[-11:]:\n",
    "    print(i,end=' ')"
   ]
  },
  {
   "cell_type": "code",
   "execution_count": 60,
   "id": "9522d60c-4efe-42da-9ac6-d66f452ff025",
   "metadata": {},
   "outputs": [],
   "source": [
    "# 5\n",
    "\n",
    "# 1\n",
    "# 12\n",
    "# 123\n",
    "# 1234\n",
    "# 12345"
   ]
  },
  {
   "cell_type": "code",
   "execution_count": 67,
   "id": "ce1c79cb-d651-4725-9d72-3ca63245ea94",
   "metadata": {},
   "outputs": [
    {
     "name": "stdin",
     "output_type": "stream",
     "text": [
      "Enter limit= 5\n"
     ]
    },
    {
     "name": "stdout",
     "output_type": "stream",
     "text": [
      "1\n",
      "12\n",
      "123\n",
      "1234\n",
      "12345\n"
     ]
    }
   ],
   "source": [
    "x=int(input(\"Enter limit=\"))\n",
    "for i in range(1,x+1):\n",
    "    for j in range(1,i+1):\n",
    "        print(j,end='')\n",
    "    print()"
   ]
  },
  {
   "cell_type": "code",
   "execution_count": 73,
   "id": "6635b7c5-3590-4e93-a0ea-5289eea1700f",
   "metadata": {},
   "outputs": [
    {
     "name": "stdin",
     "output_type": "stream",
     "text": [
      "Enter string= y\n",
      "enter limit 6\n"
     ]
    },
    {
     "name": "stdout",
     "output_type": "stream",
     "text": [
      "y\n",
      "yy\n",
      "yyy\n",
      "yyyy\n",
      "yyyyy\n",
      "yyyyyy\n"
     ]
    }
   ],
   "source": [
    "x=input(\"Enter string=\")\n",
    "y=int(input(\"enter limit\"))\n",
    "for i in range(1,y+1):\n",
    "    print(x*i)"
   ]
  },
  {
   "cell_type": "code",
   "execution_count": 74,
   "id": "73b24f1c-0439-4766-ba92-b923531c14d6",
   "metadata": {},
   "outputs": [],
   "source": [
    "#     *\n",
    "#    ***\n",
    "#   *****\n",
    "#  *******\n",
    "# *********"
   ]
  },
  {
   "cell_type": "code",
   "execution_count": 81,
   "id": "cc346287-7c94-42ff-8b4e-3cd0154461d7",
   "metadata": {},
   "outputs": [
    {
     "name": "stdin",
     "output_type": "stream",
     "text": [
      "enter limit 4\n"
     ]
    },
    {
     "name": "stdout",
     "output_type": "stream",
     "text": [
      "   *\n",
      "  ***\n",
      " *****\n",
      "*******\n"
     ]
    }
   ],
   "source": [
    "# x=input(\"Enter string=\")\n",
    "y=int(input(\"enter limit\"))\n",
    "s=y-1\n",
    "j=1\n",
    "for i in range(1,y+1):\n",
    "    print(s*' '+j*'*')\n",
    "    s-=1\n",
    "    j+=2"
   ]
  },
  {
   "cell_type": "code",
   "execution_count": 82,
   "id": "c60fc54e-ff0a-4060-8067-971022dea610",
   "metadata": {},
   "outputs": [
    {
     "name": "stdin",
     "output_type": "stream",
     "text": [
      "Enter the number= 5\n"
     ]
    },
    {
     "name": "stdout",
     "output_type": "stream",
     "text": [
      "odd number\n"
     ]
    }
   ],
   "source": [
    "def oddev(a):\n",
    "    if(a%2==0):\n",
    "        return True\n",
    "    else:\n",
    "        return False\n",
    "        \n",
    "a=int(input(\"Enter the number=\"))\n",
    "oddev(a)"
   ]
  },
  {
   "cell_type": "code",
   "execution_count": 87,
   "id": "6e53f7f0-1229-4137-9afd-e1726fba7504",
   "metadata": {},
   "outputs": [
    {
     "name": "stdin",
     "output_type": "stream",
     "text": [
      "Enter the number= 6\n"
     ]
    },
    {
     "name": "stdout",
     "output_type": "stream",
     "text": [
      "True\n",
      "True\n"
     ]
    }
   ],
   "source": [
    "def oddev(a):\n",
    "    if(a%2==0):\n",
    "        print(True)\n",
    "        return True\n",
    "    else:\n",
    "        print(False)\n",
    "        return False\n",
    "        \n",
    "a=int(input(\"Enter the number=\"))\n",
    "b = oddev(a)\n",
    "print(b)"
   ]
  },
  {
   "cell_type": "code",
   "execution_count": 108,
   "id": "05b0ee34-45d7-47ec-8f4e-e4eeae2c96a2",
   "metadata": {},
   "outputs": [
    {
     "name": "stdin",
     "output_type": "stream",
     "text": [
      "Enter num1= 4\n",
      "Enter num2= 5\n"
     ]
    },
    {
     "data": {
      "text/plain": [
       "9"
      ]
     },
     "execution_count": 108,
     "metadata": {},
     "output_type": "execute_result"
    }
   ],
   "source": [
    "def sumnum(num1,num2):\n",
    "    return num1+num2\n",
    "num1=int(input(\"Enter num1=\"))\n",
    "num2=int(input(\"Enter num2=\"))\n",
    "sumnum(num1,num2)"
   ]
  },
  {
   "cell_type": "code",
   "execution_count": 107,
   "id": "5631c359-52ae-4bd4-a6a3-deb4840576d6",
   "metadata": {},
   "outputs": [
    {
     "name": "stdout",
     "output_type": "stream",
     "text": [
      "7 6\n",
      "sum of three numbers= 13\n"
     ]
    }
   ],
   "source": [
    "def sumnum(num1,num2,num3=0):\n",
    "    print(num1,num2)\n",
    "    return num1+num2+num3\n",
    "sum=sumnum(num2=6,num1=7)\n",
    "print(\"sum of three numbers=\",sum)"
   ]
  },
  {
   "cell_type": "code",
   "execution_count": 4,
   "id": "e9d55b3e-98c9-46a1-9756-22c5ce7d96e7",
   "metadata": {},
   "outputs": [
    {
     "name": "stdin",
     "output_type": "stream",
     "text": [
      "Enter num1= 4\n",
      "Enter num2= 5\n"
     ]
    },
    {
     "data": {
      "text/plain": [
       "10"
      ]
     },
     "execution_count": 4,
     "metadata": {},
     "output_type": "execute_result"
    }
   ],
   "source": [
    "def large(num1,num2,num3=10):\n",
    "    if num1>num2 and num1>num3:\n",
    "        return num1\n",
    "    elif num2>num1 and num2>num3:\n",
    "        return num2\n",
    "    else:\n",
    "        return num3\n",
    "num1=int(input(\"Enter num1=\"))\n",
    "num2=int(input(\"Enter num2=\"))\n",
    "large(num1,num2)"
   ]
  },
  {
   "cell_type": "code",
   "execution_count": 14,
   "id": "3f10eaeb-542b-4d0a-8754-1ebe750ba25a",
   "metadata": {},
   "outputs": [
    {
     "name": "stdin",
     "output_type": "stream",
     "text": [
      "Enter limit= 10\n"
     ]
    },
    {
     "name": "stdout",
     "output_type": "stream",
     "text": [
      "         *\n",
      "        ***\n",
      "       *****\n",
      "      *******\n",
      "     *********\n",
      "    ***********\n",
      "   *************\n",
      "  ***************\n",
      " *****************\n",
      "*******************\n"
     ]
    }
   ],
   "source": [
    "def patern(limit):\n",
    "    s=limit-1\n",
    "    j=1\n",
    "    for i in range(1,limit+1):\n",
    "        print(s*' '+j*'*')\n",
    "        s-=1\n",
    "        j+=2\n",
    "limit=int(input(\"Enter limit=\"))\n",
    "patern(limit)"
   ]
  },
  {
   "cell_type": "code",
   "execution_count": 19,
   "id": "89067d3f-64ab-4c69-b7c8-496c9e3446e2",
   "metadata": {},
   "outputs": [
    {
     "data": {
      "text/plain": [
       "66"
      ]
     },
     "execution_count": 19,
     "metadata": {},
     "output_type": "execute_result"
    }
   ],
   "source": [
    "def max1(*c):\n",
    "    sum1=0\n",
    "    for i in c:\n",
    "        sum1+=i\n",
    "    return sum1\n",
    "max1(5,5,6,6,1,2,3,4,5,6,7,6,5,3,2)"
   ]
  },
  {
   "cell_type": "code",
   "execution_count": 21,
   "id": "2eaf59eb-ab30-4d46-802c-52495502b289",
   "metadata": {},
   "outputs": [
    {
     "data": {
      "text/plain": [
       "98"
      ]
     },
     "execution_count": 21,
     "metadata": {},
     "output_type": "execute_result"
    }
   ],
   "source": [
    "def maximum(*a):\n",
    "    return max(a)\n",
    "maximum(1,2,3,4,5,78,98,6)"
   ]
  },
  {
   "cell_type": "code",
   "execution_count": 26,
   "id": "34f711c1-28c5-4d07-84c6-25b1db3f50c5",
   "metadata": {},
   "outputs": [
    {
     "data": {
      "text/plain": [
       "0"
      ]
     },
     "execution_count": 26,
     "metadata": {},
     "output_type": "execute_result"
    }
   ],
   "source": [
    "def maximum(*a):\n",
    "    max1=a[0]\n",
    "    for i in a:\n",
    "        if i>max1:\n",
    "            max1=i\n",
    "    return max1\n",
    "maximum(-1,-3,-5,-2,0)"
   ]
  },
  {
   "cell_type": "code",
   "execution_count": 30,
   "id": "34181e74-7bf1-40d2-97f1-fc5fa9b44112",
   "metadata": {},
   "outputs": [
    {
     "data": {
      "text/plain": [
       "-1"
      ]
     },
     "execution_count": 30,
     "metadata": {},
     "output_type": "execute_result"
    }
   ],
   "source": [
    "def maximum(*a):\n",
    "    max1=float('-inf')\n",
    "    for i in a:\n",
    "        if i>max1:\n",
    "            max1=i\n",
    "    return max1\n",
    "maximum(-1,-3,-5,-2)"
   ]
  },
  {
   "cell_type": "code",
   "execution_count": 38,
   "id": "2531fcaa-dc9d-49d2-8177-4c92511d972d",
   "metadata": {},
   "outputs": [
    {
     "name": "stdout",
     "output_type": "stream",
     "text": [
      "{'Name': 'Nithin', 'age': 23, 'gender': 'Male'}\n"
     ]
    }
   ],
   "source": [
    "def details(**a):\n",
    "    print(a)\n",
    "details(Name='Nithin',age=23,gender = \"Male\")"
   ]
  },
  {
   "cell_type": "code",
   "execution_count": 50,
   "id": "b772d8de-2e6f-4fbf-82e4-1b99b7f9da88",
   "metadata": {},
   "outputs": [
    {
     "name": "stdout",
     "output_type": "stream",
     "text": [
      "{'Player1': 'Svichenko', 'Position1': 'CF', 'Team': 'AC Milan', 'Player2': 'Gullit', 'Position2': 'DMF', 'Team2': 'AC Milan', 'Player3': 'Iniesta', 'Position3': 'CMF', 'Team3': 'FC Barcelona', 'Player4': 'Lionel Messi', 'Position4': 'AMF', 'Team4': 'Inter Miami', 'Player5': 'Cristiano Ronaldo', 'Position5': 'CF', 'Team5': 'Al Nassr', 'Player6': 'Neymar JR', 'Position6': 'CF', 'Team6': 'Santos FC', 'Player7': 'Paolo Maldini', 'Position7': 'LB', 'Team7': 'AC Milan'}\n"
     ]
    }
   ],
   "source": [
    "def players(**x):\n",
    "    print(x)\n",
    "\n",
    "players(\n",
    "    Player1='Svichenko', Position1='CF', Team='AC Milan',\n",
    "    Player2='Gullit', Position2='DMF', Team2='AC Milan',\n",
    "    Player3='Iniesta', Position3='CMF', Team3='FC Barcelona',\n",
    "    Player4='Lionel Messi', Position4='AMF', Team4='Inter Miami',\n",
    "    Player5='Cristiano Ronaldo', Position5='CF', Team5='Al Nassr',\n",
    "    Player6='Neymar JR', Position6='CF', Team6='Santos FC',\n",
    "    Player7='Paolo Maldini', Position7='LB', Team7='AC Milan',   \n",
    ")\n"
   ]
  },
  {
   "cell_type": "code",
   "execution_count": 53,
   "id": "e7d6c9b9-b88b-4b46-abb8-9d1c7b618b31",
   "metadata": {},
   "outputs": [
    {
     "name": "stdout",
     "output_type": "stream",
     "text": [
      "{'Actor1': 'Al Pacino', 'Film1': 'SCARFACE', 'Actor2': 'Jennifer Connelly', 'Film2': 'REQUIM OF DREAMS', 'Actor3': 'Brad Pitt', 'Film3': 'ONCE UPON A TIME IN HOLLYWOOD'}\n"
     ]
    }
   ],
   "source": [
    "def actors(**x):\n",
    "    print(x)\n",
    "\n",
    "players(\n",
    "    Actor1='Al Pacino', Film1='SCARFACE',\n",
    "    Actor2='Jennifer Connelly', Film2='REQUIM OF DREAMS',\n",
    "    Actor3='Brad Pitt', Film3='ONCE UPON A TIME IN HOLLYWOOD'  \n",
    ")"
   ]
  },
  {
   "cell_type": "code",
   "execution_count": 54,
   "id": "a57a31b0-4714-4b77-93a2-ff9057e57e64",
   "metadata": {},
   "outputs": [
    {
     "data": {
      "text/plain": [
       "dict_keys(['India', 'USA', 'Japan', 'Germany'])"
      ]
     },
     "execution_count": 54,
     "metadata": {},
     "output_type": "execute_result"
    }
   ],
   "source": [
    "capitals = {\n",
    "    \"India\": \"New Delhi\",\n",
    "    \"USA\": \"Washington D.C.\",\n",
    "    \"Japan\": \"Tokyo\",\n",
    "    \"Germany\": \"Berlin\"\n",
    "}\n",
    "capitals.keys()"
   ]
  },
  {
   "cell_type": "code",
   "execution_count": 55,
   "id": "d8652993-f7b2-4eed-87a5-4db47de4c8c2",
   "metadata": {},
   "outputs": [
    {
     "data": {
      "text/plain": [
       "dict_values(['New Delhi', 'Washington D.C.', 'Tokyo', 'Berlin'])"
      ]
     },
     "execution_count": 55,
     "metadata": {},
     "output_type": "execute_result"
    }
   ],
   "source": [
    "capitals.values()"
   ]
  },
  {
   "cell_type": "code",
   "execution_count": 58,
   "id": "971f7d75-787e-4bc4-ab39-5bfb54e947d9",
   "metadata": {},
   "outputs": [
    {
     "data": {
      "text/plain": [
       "dict_items([('India', 'New Delhi'), ('USA', 'Washington D.C.'), ('Japan', 'Tokyo'), ('Germany', 'Berlin')])"
      ]
     },
     "execution_count": 58,
     "metadata": {},
     "output_type": "execute_result"
    }
   ],
   "source": [
    "capitals.items()"
   ]
  },
  {
   "cell_type": "code",
   "execution_count": 61,
   "id": "5e4b7074-3ca8-4963-82f0-452a66e6ee3e",
   "metadata": {},
   "outputs": [
    {
     "data": {
      "text/plain": [
       "'Washington D.C.'"
      ]
     },
     "execution_count": 61,
     "metadata": {},
     "output_type": "execute_result"
    }
   ],
   "source": [
    "capitals['USA']"
   ]
  },
  {
   "cell_type": "code",
   "execution_count": 67,
   "id": "dfd9b53d-a687-492c-8648-b11c75148acf",
   "metadata": {},
   "outputs": [
    {
     "data": {
      "text/plain": [
       "dict_items([('Name', ['Denzel', 'Valentino', 'Veron']), ('Age', [56, 30, 27]), ('Origin', ['America', 'Mexico', 'Argentina'])])"
      ]
     },
     "execution_count": 67,
     "metadata": {},
     "output_type": "execute_result"
    }
   ],
   "source": [
    "details={\n",
    "    \"Name\":[\"Denzel\",\"Valentino\",\"Veron\"],\n",
    "    \"Age\":[56,30,27],\n",
    "    \"Origin\":[\"America\",\"Mexico\",\"Argentina\"]\n",
    "}\n",
    "details.items()\n"
   ]
  },
  {
   "cell_type": "code",
   "execution_count": 79,
   "id": "915ebba1-5b06-41d4-a3c5-98902397aa6e",
   "metadata": {},
   "outputs": [
    {
     "name": "stdout",
     "output_type": "stream",
     "text": [
      "Name: Denzel\n",
      "Age: 56\n",
      "Origin: America\n",
      "\n",
      "Name: Valentino\n",
      "Age: 30\n",
      "Origin: Mexico\n",
      "\n",
      "Name: Veron\n",
      "Age: 27\n",
      "Origin: Argentina\n",
      "\n"
     ]
    }
   ],
   "source": [
    "i=0\n",
    "for i in range(len(details[\"Name\"])):\n",
    "    for x, vlist in details.items():\n",
    "        print(f\"{x}: {vlist[i]}\")\n",
    "    print()\n",
    "    "
   ]
  },
  {
   "cell_type": "code",
   "execution_count": 1,
   "id": "b5fe0a78-3b78-4e90-9afc-e9476ee0581f",
   "metadata": {},
   "outputs": [
    {
     "name": "stdout",
     "output_type": "stream",
     "text": [
      "{'brand': 'Ford', 'model': 'Mustang', 'year': 2020}\n"
     ]
    }
   ],
   "source": [
    "thisdict = {\n",
    "  \"brand\": \"Ford\",\n",
    "  \"model\": \"Mustang\",\n",
    "  \"year\": 1964,\n",
    "  \"year\": 2020\n",
    "}\n",
    "print(thisdict)"
   ]
  },
  {
   "cell_type": "code",
   "execution_count": 5,
   "id": "62a60230-d3f5-4986-bd9a-5530aa6e6b31",
   "metadata": {},
   "outputs": [
    {
     "name": "stdout",
     "output_type": "stream",
     "text": [
      "Mustang\n"
     ]
    }
   ],
   "source": [
    "x = thisdict.get(\"model\")\n",
    "print(x)"
   ]
  },
  {
   "cell_type": "code",
   "execution_count": 10,
   "id": "898537e9-55a1-4b71-a2a9-6086a2d62baa",
   "metadata": {},
   "outputs": [
    {
     "name": "stdout",
     "output_type": "stream",
     "text": [
      "dict_keys(['brand', 'model', 'year', 'colour'])\n",
      "{'brand': 'Ford', 'model': 'Mustang', 'year': 2020, 'colour': 'black'}\n"
     ]
    }
   ],
   "source": [
    "y = thisdict.keys()\n",
    "print(y)\n",
    "thisdict[\"colour\"]=\"black\"\n",
    "print(thisdict)\n"
   ]
  },
  {
   "cell_type": "code",
   "execution_count": 11,
   "id": "aff1c77c-c500-4e37-9c49-3f025de1829f",
   "metadata": {},
   "outputs": [
    {
     "name": "stdout",
     "output_type": "stream",
     "text": [
      "dict_items([('brand', 'Ford'), ('model', 'Mustang'), ('year', 2020), ('colour', 'black')])\n"
     ]
    }
   ],
   "source": [
    "x = thisdict.items()\n",
    "print(x)"
   ]
  },
  {
   "cell_type": "code",
   "execution_count": 14,
   "id": "dce13c85-ec43-4b37-b86f-3447150dccc0",
   "metadata": {},
   "outputs": [
    {
     "name": "stdout",
     "output_type": "stream",
     "text": [
      "dict_keys(['brand', 'model', 'year', 'colour'])\n",
      "dict_keys(['brand', 'model', 'year', 'colour'])\n"
     ]
    }
   ],
   "source": [
    "x=thisdict.keys()\n",
    "print(x)\n",
    "thisdict.update({\"year\":1992})\n",
    "print(x)"
   ]
  },
  {
   "cell_type": "code",
   "execution_count": 25,
   "id": "89f1750a-c034-4d35-9a01-6c0deb8eb216",
   "metadata": {},
   "outputs": [
    {
     "name": "stdout",
     "output_type": "stream",
     "text": [
      "{'name': 'Messi', 'age': 37, 'team': 'Inter Miami'}\n",
      "{'name': 'Messi', 'team': 'Inter Miami'}\n",
      "{'team': 'Inter Miami'}\n"
     ]
    }
   ],
   "source": [
    "playr={\n",
    "    \"name\":\"Messi\",\n",
    "    \"age\":37,\n",
    "    \"team\":\"Inter Miami\"\n",
    "}\n",
    "print(playr)\n",
    "playr.pop(\"age\")\n",
    "print(playr)\n",
    "playr.update({\"position\":\"CF\"})\n",
    "playr.popitem()\n",
    "del playr[\"name\"]\n",
    "print(playr)"
   ]
  },
  {
   "cell_type": "code",
   "execution_count": 26,
   "id": "11e4d1b4-b83b-4c14-85ed-73b5726d5b06",
   "metadata": {},
   "outputs": [
    {
     "name": "stdout",
     "output_type": "stream",
     "text": [
      "{'player1': {'name': 'Lionel Messi', 'position': 'CF', 'team': 'Inter Miami'}, 'player2': {'name': 'Neymar JR', 'position': 'AMF', 'team': 'Santos FC'}, 'player3': {'name': 'Thierry Henry', 'position': 'CF', 'team': 'Arsenal'}}\n"
     ]
    }
   ],
   "source": [
    "arg={\n",
    "    \"name\":\"Lionel Messi\",\n",
    "    \"position\":\"CF\",\n",
    "    \"team\":\"Inter Miami\"\n",
    "}\n",
    "brz={\n",
    "    \"name\":\"Neymar JR\",\n",
    "    \"position\":\"AMF\",\n",
    "    \"team\":\"Santos FC\"\n",
    "}\n",
    "fra={\n",
    "    \"name\":\"Thierry Henry\",\n",
    "    \"position\":\"CF\",\n",
    "    \"team\":\"Arsenal\"\n",
    "}\n",
    "plr={\n",
    "    \"player1\":arg,\n",
    "    \"player2\":brz,\n",
    "    \"player3\":fra\n",
    "}\n",
    "print(plr)"
   ]
  },
  {
   "cell_type": "code",
   "execution_count": 1,
   "id": "6b4d0b78-de27-4471-b028-7bcbf0dd56c8",
   "metadata": {},
   "outputs": [
    {
     "name": "stdout",
     "output_type": "stream",
     "text": [
      "[1 2 3 4 5 6]\n"
     ]
    }
   ],
   "source": [
    "import numpy as np\n",
    "l=[1,2,3,4,5,6]\n",
    "arr=np.array(l)\n",
    "print(arr)"
   ]
  },
  {
   "cell_type": "code",
   "execution_count": 2,
   "id": "cb391938-6c82-4d12-be14-52fcf93a8335",
   "metadata": {},
   "outputs": [
    {
     "data": {
      "text/plain": [
       "numpy.ndarray"
      ]
     },
     "execution_count": 2,
     "metadata": {},
     "output_type": "execute_result"
    }
   ],
   "source": [
    "type(arr)"
   ]
  },
  {
   "cell_type": "code",
   "execution_count": 3,
   "id": "6172b915-4336-4d1c-9d44-c3e37d2d9465",
   "metadata": {},
   "outputs": [
    {
     "name": "stdout",
     "output_type": "stream",
     "text": [
      "[ 2  4  6  8 10 12]\n"
     ]
    }
   ],
   "source": [
    "doub=arr*2\n",
    "print(doub)"
   ]
  },
  {
   "cell_type": "code",
   "execution_count": 4,
   "id": "65da34ce-b161-41ca-a06e-4822200ad8ec",
   "metadata": {},
   "outputs": [
    {
     "data": {
      "text/plain": [
       "array([ 5, 10, 15, 20, 25, 30])"
      ]
     },
     "execution_count": 4,
     "metadata": {},
     "output_type": "execute_result"
    }
   ],
   "source": [
    "arr*5"
   ]
  },
  {
   "cell_type": "code",
   "execution_count": 7,
   "id": "b7e78d74-1ddb-4c7a-b9b2-ec7562935f41",
   "metadata": {},
   "outputs": [
    {
     "name": "stdout",
     "output_type": "stream",
     "text": [
      "False\n"
     ]
    }
   ],
   "source": [
    "if arr.any()==7:\n",
    "    print(True)\n",
    "else:\n",
    "    print(False)"
   ]
  },
  {
   "cell_type": "code",
   "execution_count": 11,
   "id": "8782b56b-3659-45b9-b072-29ebae44ec85",
   "metadata": {},
   "outputs": [
    {
     "data": {
      "text/plain": [
       "array([ 6,  7,  8,  9, 10, 11])"
      ]
     },
     "execution_count": 11,
     "metadata": {},
     "output_type": "execute_result"
    }
   ],
   "source": [
    "arr"
   ]
  },
  {
   "cell_type": "code",
   "execution_count": 14,
   "id": "59749697-5194-465d-bd26-4977de81ec24",
   "metadata": {},
   "outputs": [
    {
     "data": {
      "text/plain": [
       "array([False, False, False, False,  True,  True])"
      ]
     },
     "execution_count": 14,
     "metadata": {},
     "output_type": "execute_result"
    }
   ],
   "source": [
    "arr>9"
   ]
  },
  {
   "cell_type": "code",
   "execution_count": 16,
   "id": "7ffcb49d-ae7e-4374-9142-33172e61d371",
   "metadata": {},
   "outputs": [
    {
     "data": {
      "text/plain": [
       "1"
      ]
     },
     "execution_count": 16,
     "metadata": {},
     "output_type": "execute_result"
    }
   ],
   "source": [
    "arr.ndim"
   ]
  },
  {
   "cell_type": "code",
   "execution_count": 19,
   "id": "2918c50d-5d47-43ab-85b7-455167045a96",
   "metadata": {},
   "outputs": [
    {
     "data": {
      "text/plain": [
       "2"
      ]
     },
     "execution_count": 19,
     "metadata": {},
     "output_type": "execute_result"
    }
   ],
   "source": [
    "arr2=np.array([[1,2],[3,4],[5,6],[7,8]])\n",
    "arr2.ndim"
   ]
  },
  {
   "cell_type": "code",
   "execution_count": 20,
   "id": "979a39f6-20af-4218-b57c-b78be5858266",
   "metadata": {},
   "outputs": [
    {
     "name": "stdout",
     "output_type": "stream",
     "text": [
      "[[1 2]\n",
      " [3 4]\n",
      " [5 6]\n",
      " [7 8]]\n"
     ]
    }
   ],
   "source": [
    "print(arr2)"
   ]
  },
  {
   "cell_type": "code",
   "execution_count": 26,
   "id": "f26a18ac-9cfb-4f12-9296-93062c99ad7f",
   "metadata": {},
   "outputs": [],
   "source": [
    "a=np.zeros((2,4),dtype=int)"
   ]
  },
  {
   "cell_type": "code",
   "execution_count": 27,
   "id": "7f7232cc-59e9-417b-96bd-d93d3f09136e",
   "metadata": {},
   "outputs": [
    {
     "data": {
      "text/plain": [
       "array([[0, 0, 0, 0],\n",
       "       [0, 0, 0, 0]])"
      ]
     },
     "execution_count": 27,
     "metadata": {},
     "output_type": "execute_result"
    }
   ],
   "source": [
    "a"
   ]
  },
  {
   "cell_type": "code",
   "execution_count": 29,
   "id": "8908e2a4-d29d-4bbc-a301-82eef3ac328d",
   "metadata": {},
   "outputs": [
    {
     "data": {
      "text/plain": [
       "array([[[1., 1., 1.],\n",
       "        [1., 1., 1.],\n",
       "        [1., 1., 1.]],\n",
       "\n",
       "       [[1., 1., 1.],\n",
       "        [1., 1., 1.],\n",
       "        [1., 1., 1.]],\n",
       "\n",
       "       [[1., 1., 1.],\n",
       "        [1., 1., 1.],\n",
       "        [1., 1., 1.]]])"
      ]
     },
     "execution_count": 29,
     "metadata": {},
     "output_type": "execute_result"
    }
   ],
   "source": [
    "b=np.ones((3,3,3))\n",
    "b"
   ]
  },
  {
   "cell_type": "code",
   "execution_count": 31,
   "id": "ccc41aee-f0fe-42d0-af48-5da77c27f1fc",
   "metadata": {},
   "outputs": [
    {
     "data": {
      "text/plain": [
       "array([0, 1, 2, 3, 4, 5])"
      ]
     },
     "execution_count": 31,
     "metadata": {},
     "output_type": "execute_result"
    }
   ],
   "source": [
    "c=np.arange(6)\n",
    "c"
   ]
  },
  {
   "cell_type": "code",
   "execution_count": 35,
   "id": "6507e563-51d4-4a8b-8d8f-bf4c708871db",
   "metadata": {},
   "outputs": [
    {
     "data": {
      "text/plain": [
       "array([ 2,  4,  6,  8, 10, 12, 14, 16, 18])"
      ]
     },
     "execution_count": 35,
     "metadata": {},
     "output_type": "execute_result"
    }
   ],
   "source": [
    "d=np.arange(2,20,2)\n",
    "d"
   ]
  },
  {
   "cell_type": "code",
   "execution_count": 38,
   "id": "dbe17a0c-48c5-4aa2-94c3-a4a5446fcf97",
   "metadata": {},
   "outputs": [],
   "source": [
    "d.shape = (3,3)"
   ]
  },
  {
   "cell_type": "code",
   "execution_count": 39,
   "id": "47f0267c-3f75-41bd-9eb8-c9a7ac0b6cb2",
   "metadata": {},
   "outputs": [
    {
     "data": {
      "text/plain": [
       "array([[ 2,  4,  6],\n",
       "       [ 8, 10, 12],\n",
       "       [14, 16, 18]])"
      ]
     },
     "execution_count": 39,
     "metadata": {},
     "output_type": "execute_result"
    }
   ],
   "source": [
    "d"
   ]
  },
  {
   "cell_type": "code",
   "execution_count": 5,
   "id": "2c7f9697-77b9-4c11-8ba9-2aa4305c4a71",
   "metadata": {},
   "outputs": [
    {
     "data": {
      "text/plain": [
       "array([1, 2, 3, 4, 5, 6, 7, 8, 9])"
      ]
     },
     "execution_count": 5,
     "metadata": {},
     "output_type": "execute_result"
    }
   ],
   "source": [
    "import numpy as np\n",
    "arr= np.arange(1,10)\n",
    "arr"
   ]
  },
  {
   "cell_type": "code",
   "execution_count": 8,
   "id": "60222943-5c54-482c-bf84-4353fcefcaa0",
   "metadata": {},
   "outputs": [
    {
     "data": {
      "text/plain": [
       "array([[1, 2, 3],\n",
       "       [4, 5, 6],\n",
       "       [7, 8, 9]])"
      ]
     },
     "execution_count": 8,
     "metadata": {},
     "output_type": "execute_result"
    }
   ],
   "source": [
    "arr.shape=(3,3)\n",
    "arr"
   ]
  },
  {
   "cell_type": "code",
   "execution_count": 14,
   "id": "466120db-8e4c-4cde-827a-7ccde4ced5aa",
   "metadata": {},
   "outputs": [
    {
     "data": {
      "text/plain": [
       "array([[5, 6],\n",
       "       [8, 9]])"
      ]
     },
     "execution_count": 14,
     "metadata": {},
     "output_type": "execute_result"
    }
   ],
   "source": [
    "arr[1:,1:]"
   ]
  },
  {
   "cell_type": "code",
   "execution_count": 19,
   "id": "d5b17479-7292-4358-8917-63802eba698e",
   "metadata": {},
   "outputs": [],
   "source": [
    "arr[0:2,0:2] =0"
   ]
  },
  {
   "cell_type": "code",
   "execution_count": 20,
   "id": "b7ee14b7-a754-4dba-9302-f987d3878e54",
   "metadata": {},
   "outputs": [
    {
     "data": {
      "text/plain": [
       "array([[0, 0, 3],\n",
       "       [0, 0, 6],\n",
       "       [7, 8, 9]])"
      ]
     },
     "execution_count": 20,
     "metadata": {},
     "output_type": "execute_result"
    }
   ],
   "source": [
    "arr"
   ]
  },
  {
   "cell_type": "code",
   "execution_count": 42,
   "id": "b97f4ded-60e6-475e-8213-f5dd6c72b4c3",
   "metadata": {},
   "outputs": [
    {
     "data": {
      "text/plain": [
       "array([[0, 0, 0, 0, 0],\n",
       "       [0, 0, 0, 0, 0],\n",
       "       [0, 0, 0, 0, 0],\n",
       "       [0, 0, 0, 0, 0],\n",
       "       [0, 0, 0, 0, 0]], dtype=int8)"
      ]
     },
     "execution_count": 42,
     "metadata": {},
     "output_type": "execute_result"
    }
   ],
   "source": [
    "arr=np.zeros((5,5),dtype='int8')\n",
    "arr"
   ]
  },
  {
   "cell_type": "code",
   "execution_count": 43,
   "id": "36605073-179e-41c1-98f2-f58b811c5804",
   "metadata": {},
   "outputs": [
    {
     "data": {
      "text/plain": [
       "array([[0, 0, 0, 0, 0],\n",
       "       [0, 1, 1, 1, 0],\n",
       "       [0, 1, 1, 1, 0],\n",
       "       [0, 1, 1, 1, 0],\n",
       "       [0, 0, 0, 0, 0]], dtype=int8)"
      ]
     },
     "execution_count": 43,
     "metadata": {},
     "output_type": "execute_result"
    }
   ],
   "source": [
    "arr[1:4,1:4,]=1\n",
    "arr"
   ]
  },
  {
   "cell_type": "code",
   "execution_count": 44,
   "id": "74486ca6-e3fa-44c4-8b0f-aee9e4c3e4d6",
   "metadata": {},
   "outputs": [
    {
     "data": {
      "text/plain": [
       "numpy.int8"
      ]
     },
     "execution_count": 44,
     "metadata": {},
     "output_type": "execute_result"
    }
   ],
   "source": [
    "type(arr[1][0])"
   ]
  },
  {
   "cell_type": "code",
   "execution_count": 46,
   "id": "c2ecdb1d-2728-4577-990d-e9b13734c11f",
   "metadata": {},
   "outputs": [],
   "source": [
    "arr=np.array([5,6,7,8,9,10])"
   ]
  },
  {
   "cell_type": "code",
   "execution_count": 47,
   "id": "e4d2be08-8199-476a-ac7a-c53942999765",
   "metadata": {},
   "outputs": [
    {
     "data": {
      "text/plain": [
       "7.5"
      ]
     },
     "execution_count": 47,
     "metadata": {},
     "output_type": "execute_result"
    }
   ],
   "source": [
    "np.mean(arr)"
   ]
  },
  {
   "cell_type": "code",
   "execution_count": 48,
   "id": "fe323173-7b45-4580-8078-7af6d1130c6b",
   "metadata": {},
   "outputs": [
    {
     "data": {
      "text/plain": [
       "7.5"
      ]
     },
     "execution_count": 48,
     "metadata": {},
     "output_type": "execute_result"
    }
   ],
   "source": [
    "np.median(arr)"
   ]
  },
  {
   "cell_type": "code",
   "execution_count": 49,
   "id": "3f2ae2ee-220e-495a-b864-b98308d0bb3d",
   "metadata": {},
   "outputs": [
    {
     "data": {
      "text/plain": [
       "1.707825127659933"
      ]
     },
     "execution_count": 49,
     "metadata": {},
     "output_type": "execute_result"
    }
   ],
   "source": [
    "np.std(arr)"
   ]
  },
  {
   "cell_type": "code",
   "execution_count": 52,
   "id": "5cc1e52a-1eac-4edc-a04b-1f73d4570e40",
   "metadata": {},
   "outputs": [
    {
     "name": "stdout",
     "output_type": "stream",
     "text": [
      "5\n",
      "10\n"
     ]
    }
   ],
   "source": [
    "print(np.min(arr))\n",
    "print(np.max(arr))"
   ]
  },
  {
   "cell_type": "code",
   "execution_count": 53,
   "id": "2c9cb060-5877-43d4-8606-a04736abe2d9",
   "metadata": {},
   "outputs": [
    {
     "data": {
      "text/plain": [
       "151200"
      ]
     },
     "execution_count": 53,
     "metadata": {},
     "output_type": "execute_result"
    }
   ],
   "source": [
    "np.prod(arr)"
   ]
  },
  {
   "cell_type": "code",
   "execution_count": 59,
   "id": "149cc134-656f-46de-b43e-30156bb17b5e",
   "metadata": {},
   "outputs": [
    {
     "data": {
      "text/plain": [
       "array([50, 50, 50, 50, 50,  1])"
      ]
     },
     "execution_count": 59,
     "metadata": {},
     "output_type": "execute_result"
    }
   ],
   "source": [
    "np.where(arr>9,1,50)"
   ]
  },
  {
   "cell_type": "code",
   "execution_count": 61,
   "id": "7f8042db-6cd2-4afd-bcc1-aeafdaa8f527",
   "metadata": {},
   "outputs": [
    {
     "data": {
      "text/plain": [
       "array([ 5,  6,  7,  8,  9, 10])"
      ]
     },
     "execution_count": 61,
     "metadata": {},
     "output_type": "execute_result"
    }
   ],
   "source": [
    "unq=np.unique(arr)\n",
    "unq"
   ]
  },
  {
   "cell_type": "code",
   "execution_count": 65,
   "id": "7b2ce46e-481f-449f-b9e6-bc2b15dd262f",
   "metadata": {},
   "outputs": [],
   "source": [
    "mark=np.array([10,12,2,5,16,26,30,45])"
   ]
  },
  {
   "cell_type": "code",
   "execution_count": 68,
   "id": "507394dc-4db0-4c77-88d4-b10f647eee61",
   "metadata": {},
   "outputs": [
    {
     "name": "stdout",
     "output_type": "stream",
     "text": [
      "FAILED\n"
     ]
    }
   ],
   "source": [
    "if mark.any()>25:\n",
    "    print(\"PASSED\")\n",
    "else:\n",
    "    print(\"FAILED\")"
   ]
  },
  {
   "cell_type": "code",
   "execution_count": 72,
   "id": "d9b8df10-7bd4-401a-be95-b6f2e5a84e22",
   "metadata": {},
   "outputs": [
    {
     "data": {
      "text/plain": [
       "array([False, False, False, False, False,  True,  True,  True])"
      ]
     },
     "execution_count": 72,
     "metadata": {},
     "output_type": "execute_result"
    }
   ],
   "source": [
    "mark > 25"
   ]
  },
  {
   "cell_type": "code",
   "execution_count": 74,
   "id": "3b572547-6886-4997-a831-d97a245ac1a4",
   "metadata": {},
   "outputs": [
    {
     "data": {
      "text/plain": [
       "array(['FAILED', 'FAILED', 'FAILED', 'FAILED', 'FAILED', 'PASSED',\n",
       "       'PASSED', 'PASSED'], dtype='<U6')"
      ]
     },
     "execution_count": 74,
     "metadata": {},
     "output_type": "execute_result"
    }
   ],
   "source": [
    "np.where(mark>25,\"PASSED\",\"FAILED\")"
   ]
  },
  {
   "cell_type": "code",
   "execution_count": null,
   "id": "2ce856d6-cd55-44a5-9aea-596682de67f7",
   "metadata": {},
   "outputs": [],
   "source": []
  }
 ],
 "metadata": {
  "kernelspec": {
   "display_name": "Python 3 (ipykernel)",
   "language": "python",
   "name": "python3"
  },
  "language_info": {
   "codemirror_mode": {
    "name": "ipython",
    "version": 3
   },
   "file_extension": ".py",
   "mimetype": "text/x-python",
   "name": "python",
   "nbconvert_exporter": "python",
   "pygments_lexer": "ipython3",
   "version": "3.12.7"
  }
 },
 "nbformat": 4,
 "nbformat_minor": 5
}
